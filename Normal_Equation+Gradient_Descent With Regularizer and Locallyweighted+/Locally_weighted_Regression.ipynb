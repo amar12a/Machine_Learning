{
 "cells": [
  {
   "cell_type": "code",
   "execution_count": 5,
   "metadata": {},
   "outputs": [],
   "source": [
    "import pandas as pd\n",
    "import numpy as np\n",
    "import matplotlib.pyplot as plt"
   ]
  },
  {
   "cell_type": "code",
   "execution_count": 6,
   "metadata": {},
   "outputs": [
    {
     "name": "stdout",
     "output_type": "stream",
     "text": [
      "No. of rows :  546\n"
     ]
    }
   ],
   "source": [
    "df=pd.read_csv(\"Housing_price_data_set.csv\")\n",
    "df['num_airco']=df.airco.map({'yes':1,'no':0})\n",
    "df['num_fullbase']=df.fullbase.map({'yes':1,'no':0})\n",
    "df['num_gashw']=df.gashw.map({'yes':1,'no':0})\n",
    "df['num_driveway']=df.driveway.map({'yes':1,'no':0})\n",
    "df['num_recroom']=df.recroom.map({'yes':1,'no':0})\n",
    "df['num_prefarea']=df.prefarea.map({'yes':1,'no':0})\n",
    "X=df[['lotsize','bedrooms','bathrms','stories','num_driveway','num_recroom','num_fullbase','num_gashw','num_airco','garagepl','num_prefarea']].values\n",
    "Y=df[['price']].values\n",
    "X=(X-np.mean(X))/np.std(X)\n",
    "Y=(Y-np.mean(Y))/np.std(Y)\n",
    "m=df['lotsize'].count()\n",
    "print(\"No. of rows : \",m)"
   ]
  },
  {
   "cell_type": "code",
   "execution_count": 7,
   "metadata": {},
   "outputs": [
    {
     "name": "stdout",
     "output_type": "stream",
     "text": [
      "(164, 12)\n",
      "(164, 1)\n",
      "(382, 12)\n",
      "(382, 1)\n",
      "Obtained parameters :  [[-5.24518300e-01]\n",
      " [ 1.78179352e-01]\n",
      " [ 7.61790706e-05]\n",
      " [ 7.70854509e-05]\n",
      " [ 1.16510337e-04]\n",
      " [ 2.42095558e-05]\n",
      " [ 3.02381446e-05]\n",
      " [ 1.93311642e-05]\n",
      " [ 6.70909955e-06]\n",
      " [ 5.81742479e-05]\n",
      " [ 7.27457291e-05]\n",
      " [ 3.36204449e-05]]\n"
     ]
    }
   ],
   "source": [
    "one=np.ones(m,dtype=int)\n",
    "fx=np.insert(X,0,one,axis=1)\n",
    "from sklearn.model_selection import train_test_split\n",
    "\n",
    "n = len(fx[0])\n",
    "idnty=np.identity(n,dtype=int)\n",
    "x_train,x_test,y_train,y_test=train_test_split(fx,Y,random_state=50,test_size=0.3)\n",
    "print(x_test.shape)\n",
    "print(y_test.shape)\n",
    "print(x_train.shape)\n",
    "print(y_train.shape)\n",
    "\n",
    "transpose_x = np.transpose(x_train)\n",
    "temp = np.matmul(transpose_x,x_train)\n",
    "\n",
    "# Setting L matrix\n",
    "idnty[0][0]=0\n",
    "lemda=800\n",
    "ie = lemda*idnty\n",
    "temp = temp+ ie\n",
    "temp2 = np.matmul(transpose_x,y_train)\n",
    "inv_temp = np.linalg.inv(temp)\n",
    "para = np.matmul(inv_temp,temp2)\n",
    "print(\"Obtained parameters : \", para)"
   ]
  },
  {
   "cell_type": "code",
   "execution_count": 8,
   "metadata": {},
   "outputs": [
    {
     "name": "stdout",
     "output_type": "stream",
     "text": [
      "Total squared error is : 0.37573213271663414\n"
     ]
    }
   ],
   "source": [
    "##calculating sum of squared error\n",
    "predicted_y=np.matmul(x_test,para)\n",
    "diff=predicted_y - y_test\n",
    "print(\"Total squared error is :\", end=\" \")\n",
    "ie = np.power(np.abs(diff),2)\n",
    "tse=(np.mean(ie))\n",
    "tse = tse / 2\n",
    "print(tse)\n"
   ]
  },
  {
   "cell_type": "code",
   "execution_count": null,
   "metadata": {},
   "outputs": [],
   "source": []
  },
  {
   "cell_type": "code",
   "execution_count": null,
   "metadata": {},
   "outputs": [],
   "source": []
  }
 ],
 "metadata": {
  "kernelspec": {
   "display_name": "Python 3",
   "language": "python",
   "name": "python3"
  },
  "language_info": {
   "codemirror_mode": {
    "name": "ipython",
    "version": 3
   },
   "file_extension": ".py",
   "mimetype": "text/x-python",
   "name": "python",
   "nbconvert_exporter": "python",
   "pygments_lexer": "ipython3",
   "version": "3.7.1"
  }
 },
 "nbformat": 4,
 "nbformat_minor": 2
}
