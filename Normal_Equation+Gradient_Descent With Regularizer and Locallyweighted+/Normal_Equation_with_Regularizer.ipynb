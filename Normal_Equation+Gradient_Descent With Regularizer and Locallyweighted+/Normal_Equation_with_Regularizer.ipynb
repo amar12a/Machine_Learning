{
 "cells": [
  {
   "cell_type": "code",
   "execution_count": 6,
   "metadata": {},
   "outputs": [],
   "source": [
    "import numpy as np\n",
    "import pandas as pd\n",
    "import matplotlib.pyplot as plt"
   ]
  },
  {
   "cell_type": "code",
   "execution_count": 7,
   "metadata": {},
   "outputs": [],
   "source": [
    "df=pd.read_csv('Housing_Price_data_set.csv')\n",
    "df['num_airco']=df.airco.map({'yes':1,'no':0})\n",
    "df['num_fullbase']=df.fullbase.map({'yes':1,'no':0})\n",
    "df['num_gashw']=df.gashw.map({'yes':1,'no':0})\n",
    "df['num_driveway']=df.driveway.map({'yes':1,'no':0})\n",
    "df['num_recroom']=df.recroom.map({'yes':1,'no':0})\n",
    "df['num_prefarea']=df.prefarea.map({'yes':1,'no':0})\n",
    "X=df[['lotsize','bedrooms','bathrms','stories','num_driveway','num_recroom','num_fullbase','num_gashw','num_airco','garagepl','num_prefarea']].values\n",
    "Y=df[['price']].values\n"
   ]
  },
  {
   "cell_type": "code",
   "execution_count": 8,
   "metadata": {},
   "outputs": [
    {
     "name": "stdout",
     "output_type": "stream",
     "text": [
      "[[0.]\n",
      " [0.]\n",
      " [0.]\n",
      " [0.]\n",
      " [0.]\n",
      " [0.]\n",
      " [0.]\n",
      " [0.]\n",
      " [0.]\n",
      " [0.]\n",
      " [0.]\n",
      " [0.]]\n"
     ]
    }
   ],
   "source": [
    "ones = np.ones([X.shape[0],1])\n",
    "fx = np.concatenate((ones,X),axis=1)\n",
    "\n",
    "from sklearn.model_selection import train_test_split\n",
    "\n",
    "X=(fx-np.mean(fx))/np.std(fx)\n",
    "Y=(Y-np.mean(Y))/np.std(Y)\n",
    "\n",
    "# Splitting testing and training data using train_test_spilit\n",
    "\n",
    "x_train,x_test,y_train,y_test=train_test_split(X,Y,random_state=50,test_size=0.3)\n",
    "\n",
    "#Intializing parameters with zero\n",
    "theta = np.transpose(np.matrix(np.zeros(12)))\n",
    "print(theta)\n",
    "\n",
    "#set gradient parameters\n",
    "alpha = 0.001\n",
    "iters = 5000\n",
    "count=0\n",
    "x_dataset=[]\n",
    "y_dataset=[]\n",
    "weight=[]"
   ]
  },
  {
   "cell_type": "code",
   "execution_count": 9,
   "metadata": {},
   "outputs": [
    {
     "name": "stdout",
     "output_type": "stream",
     "text": [
      "parameters after lwr for prediction of 83th point: [[1.28025788]\n",
      " [1.16606709]\n",
      " [1.28025807]\n",
      " [1.280258  ]\n",
      " [1.28025695]\n",
      " [1.28025792]\n",
      " [1.28025772]\n",
      " [1.28025781]\n",
      " [1.28025765]\n",
      " [1.28025753]\n",
      " [1.2802579 ]\n",
      " [1.28025773]]\n",
      "calculated value for given point is [[1.56276842]]\n",
      "The original value for given point is [0.70763388]\n"
     ]
    }
   ],
   "source": [
    "#calculating locally weighted regression \n",
    "def lwr(X,Y,weight,theta,alpha,iters):\n",
    "    cost=[]\n",
    "    m = len(X)\n",
    "    for i in range(0,iters):\n",
    "        hypo=X*theta\n",
    "        error=hypo-Y\n",
    "        ie = np.power(error,2)\n",
    "        ie1 = np.sum(weight.T * ie)\n",
    "        cost.append(ie1 /(2 * m))\n",
    "        gradient=(weight.T*error)/ m\n",
    "        theta=theta-(alpha*(gradient))\n",
    "    return theta,cost\n",
    "\n",
    "\n",
    "#suppose we want to predict the price of 83th point \n",
    "i=83\n",
    "tow = 0.99\n",
    "h = 50\n",
    "half = 0.5555\n",
    "for j in range(0,len(x_train)):\n",
    "    if(np.array_equal(x_train[i],x_train[j])!=True and np.absolute(x_train[j][1]-x_train[i][1])<=half):\n",
    "        x_dataset.append(x_train[j])\n",
    "        y_dataset.append(y_train[j])\n",
    "        count=count+1\n",
    "    if(count>=h):\n",
    "        break\n",
    "x_dataset=np.array(x_dataset)\n",
    "y_dataset=np.array(y_dataset)\n",
    "#The point whose prediction is to be done\n",
    "given_point=np.array(x_train[i]) \n",
    "\n",
    "for i in range(0,len(x_dataset)):\n",
    "    temp=x_dataset[i]-given_point\n",
    "    ie = np.power(temp,2)\n",
    "    ie1 = (2*tow*tow)\n",
    "    temp2=(-1)* ie / ie1\n",
    "    weight.append(np.exp(temp2))\n",
    "weight=np.array(weight)\n",
    "\n",
    "# calling of the function\n",
    "para,cost = lwr(x_dataset,y_dataset,weight,theta,alpha,iters)\n",
    "\n",
    "y_pred=np.matmul(x_train[100],para)\n",
    "\n",
    "#output\n",
    "\n",
    "print(\"parameters after lwr for prediction of 83th point:\",para);\n",
    "\n",
    "print(\"calculated value for given point is\",y_pred)\n",
    "\n",
    "print(\"The original value for given point is\",y_train[83])\n",
    "            "
   ]
  },
  {
   "cell_type": "code",
   "execution_count": 10,
   "metadata": {},
   "outputs": [
    {
     "data": {
      "image/png": "[encoded data removed]",
      "text/plain": [
       "<Figure size 432x288 with 1 Axes>"
      ]
     },
     "metadata": {
      "needs_background": "light"
     },
     "output_type": "display_data"
    }
   ],
   "source": [
    "# Plotting the graph to see convergence\n",
    "plt.plot(np.arange(5000),cost,label=\"alpha = 0.003\")\n",
    "plt.xlabel(\"No. of iterations\")\n",
    "plt.ylabel(\"Cost\")\n",
    "plt.legend()\n",
    "plt.show()"
   ]
  },
  {
   "cell_type": "code",
   "execution_count": null,
   "metadata": {},
   "outputs": [],
   "source": []
  }
 ],
 "metadata": {
  "kernelspec": {
   "display_name": "Python 3",
   "language": "python",
   "name": "python3"
  },
  "language_info": {
   "codemirror_mode": {
    "name": "ipython",
    "version": 3
   },
   "file_extension": ".py",
   "mimetype": "text/x-python",
   "name": "python",
   "nbconvert_exporter": "python",
   "pygments_lexer": "ipython3",
   "version": "3.7.1"
  }
 },
 "nbformat": 4,
 "nbformat_minor": 2
}
