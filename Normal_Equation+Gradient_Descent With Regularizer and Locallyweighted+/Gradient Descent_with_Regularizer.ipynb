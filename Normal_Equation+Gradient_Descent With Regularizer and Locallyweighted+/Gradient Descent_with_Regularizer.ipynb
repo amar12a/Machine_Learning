{
 "cells": [
  {
   "cell_type": "code",
   "execution_count": 6,
   "metadata": {},
   "outputs": [],
   "source": [
    "import numpy as np\n",
    "import pandas as pd\n",
    "import matplotlib.pyplot as plt"
   ]
  },
  {
   "cell_type": "code",
   "execution_count": 7,
   "metadata": {},
   "outputs": [
    {
     "name": "stdout",
     "output_type": "stream",
     "text": [
      "No. of rows :  546\n"
     ]
    }
   ],
   "source": [
    "df=pd.read_csv(\"Housing_price_data_set.csv\")\n",
    "df['num_airco']=df.airco.map({'yes':1,'no':0})\n",
    "df['num_fullbase']=df.fullbase.map({'yes':1,'no':0})\n",
    "df['num_gashw']=df.gashw.map({'yes':1,'no':0})\n",
    "df['num_driveway']=df.driveway.map({'yes':1,'no':0})\n",
    "df['num_recroom']=df.recroom.map({'yes':1,'no':0})\n",
    "df['num_prefarea']=df.prefarea.map({'yes':1,'no':0})\n",
    "X=df[['lotsize','bedrooms','bathrms','stories','num_driveway','num_recroom','num_fullbase','num_gashw','num_airco','garagepl','num_prefarea']].values\n",
    "Y=df[['price']].values\n",
    "# Normalization done here over X and Y\n",
    "X=(X-np.mean(X))/np.std(X)\n",
    "Y=(Y-np.mean(Y))/np.std(Y)\n",
    "m=df['lotsize'].count()\n",
    "print(\"No. of rows : \",m)"
   ]
  },
  {
   "cell_type": "code",
   "execution_count": 8,
   "metadata": {},
   "outputs": [],
   "source": [
    "from sklearn.model_selection import train_test_split\n",
    "# Intializing theta(parameters) with zero\n",
    "theta = np.matrix(np.zeros(12))\n",
    "\n",
    "ones = np.ones([X.shape[0],1])\n",
    "X = np.concatenate((ones,X),axis=1)\n",
    "\n",
    "x_train,x_test,y_train,y_test=train_test_split(X,Y,random_state=50,test_size=.3)"
   ]
  },
  {
   "cell_type": "code",
   "execution_count": 9,
   "metadata": {},
   "outputs": [
    {
     "name": "stdout",
     "output_type": "stream",
     "text": [
      "parameters after gradient descent= [[-0.31201252  0.22385437  0.0904532   0.09079023  0.09100656  0.09045408\n",
      "   0.09063603  0.0905283   0.09048319  0.09083362  0.0908532   0.09065369]]\n",
      "\n",
      "parameters after gradient descent= [[-0.3119227   0.22379977  0.09041708  0.09075363  0.09096338  0.09042555\n",
      "   0.0906061   0.09049911  0.09045618  0.09079973  0.09081938  0.0906234 ]]\n"
     ]
    },
    {
     "data": {
      "image/png": "[encoded data removed]",
      "text/plain": [
       "<Figure size 432x288 with 1 Axes>"
      ]
     },
     "metadata": {
      "needs_background": "light"
     },
     "output_type": "display_data"
    },
    {
     "name": "stdout",
     "output_type": "stream",
     "text": [
      "Total squared error is 0.357868382700491\n",
      "\n",
      "Total squared error is 0.3578898032959659\n"
     ]
    }
   ],
   "source": [
    "#Gradient Descent based on the 70% of Data\n",
    "\n",
    "#setting gradient parameters\n",
    "alpha = [0.1,0.003]\n",
    "iters = 5000\n",
    "lemda = 100\n",
    "def gradient_descent(X,Y,theta,iters,alpha):\n",
    "    cost=[]\n",
    "    m = len(X)\n",
    "    for i in range(0,iters):\n",
    "        hypothesis=X*theta.T\n",
    "        error=hypothesis-Y\n",
    "        ie = np.sum(np.power(error,2))\n",
    "        cost.append(ie/(2*m))\n",
    "        gradient=(error.T*X)/m\n",
    "        theta=theta-(alpha*(gradient+lemda/m*theta))\n",
    "    return theta,cost\n",
    "\n",
    "cost_list = []\n",
    "para_list = []\n",
    "for a in alpha:\n",
    "    para,cost=gradient_descent(x_train,y_train,theta,iters,a)\n",
    "    cost_list.append(cost)\n",
    "    para_list.append(para)\n",
    "\n",
    "print(\"parameters after gradient descent=\",para_list[0])\n",
    "print()\n",
    "print(\"parameters after gradient descent=\",para_list[1])\n",
    "\n",
    "it=np.arange(0,iters)\n",
    "plt.plot(it,np.array(cost_list[0]),label=\"alpha = 0.1\")\n",
    "plt.plot(it,np.array(cost_list[1]),label=\"alpha = 0.003\")\n",
    "plt.xlabel(\"No. of iterations\")\n",
    "plt.ylabel(\"Cost\")\n",
    "plt.legend()\n",
    "plt.show()\n",
    "\n",
    "##calculating sum of squared error of the test data\n",
    "predicted_y=np.matmul(x_test,para_list[0].transpose())\n",
    "diff=predicted_y - y_test\n",
    "print(\"Total squared error is\", end = \" \")\n",
    "ie = np.power(diff,2)\n",
    "tse=(np.mean(ie))\n",
    "print(tse/2)\n",
    "print()\n",
    "predicted_y=np.matmul(x_test,para_list[1].transpose())\n",
    "diff=predicted_y - y_test\n",
    "print(\"Total squared error is\", end = \" \")\n",
    "ie = np.power(diff,2)\n",
    "tse=(np.mean(ie))\n",
    "print(tse/2)"
   ]
  },
  {
   "cell_type": "code",
   "execution_count": 10,
   "metadata": {},
   "outputs": [
    {
     "name": "stdout",
     "output_type": "stream",
     "text": [
      "parameters after gradient descent= [[-0.37511052  0.26244665  0.10882016  0.10919075  0.10945691  0.10876014\n",
      "   0.10895348  0.10892115  0.10878663  0.10924533  0.10932175  0.10902757]]\n"
     ]
    },
    {
     "data": {
      "image/png": "[encoded data removed]",
      "text/plain": [
       "<Figure size 432x288 with 1 Axes>"
      ]
     },
     "metadata": {
      "needs_background": "light"
     },
     "output_type": "display_data"
    },
    {
     "name": "stdout",
     "output_type": "stream",
     "text": [
      "Total squared error is 0.3757259053169172\n"
     ]
    }
   ],
   "source": [
    "#gradient descent based on entire data set\n",
    "lemda = 100\n",
    "def gradient_descent(X,Y,theta,iters,alpha):\n",
    "    cost=[]\n",
    "    m = len(X)\n",
    "    xTrans=X.transpose()\n",
    "    for i in range(0,iters):\n",
    "        hypothesis=X*theta.T\n",
    "        error=hypothesis-Y\n",
    "        ie = np.sum(np.power(error,2))\n",
    "        cost.append(ie/(2*m))\n",
    "        gradient=(error.T*X)/ m\n",
    "        theta=theta-(alpha*(gradient+(lemda/m)*theta))\n",
    "    return theta,cost\n",
    "\n",
    "para,cost=gradient_descent(X,Y,theta,iters-3000,alpha[0])\n",
    "\n",
    "print(\"parameters after gradient descent=\",para)\n",
    "\n",
    "it=np.arange(0,iters-3000)\n",
    "plt.plot(it,np.array(cost),label = \"Alpha = 0.03\")\n",
    "plt.xlabel(\"No. of iterations\")\n",
    "plt.ylabel(\"Cost\")\n",
    "plt.legend()\n",
    "plt.show()\n",
    "\n",
    "#calculating sum of squared error for complete data set\n",
    "Predicted_y=np.matmul(X,para.transpose())\n",
    "diff=Predicted_y-Y\n",
    "print(\"Total squared error is\",end = \" \")\n",
    "tse=(np.mean(np.power(diff,2)))/2\n",
    "print(tse)"
   ]
  }
 ],
 "metadata": {
  "kernelspec": {
   "display_name": "Python 3",
   "language": "python",
   "name": "python3"
  },
  "language_info": {
   "codemirror_mode": {
    "name": "ipython",
    "version": 3
   },
   "file_extension": ".py",
   "mimetype": "text/x-python",
   "name": "python",
   "nbconvert_exporter": "python",
   "pygments_lexer": "ipython3",
   "version": "3.7.1"
  }
 },
 "nbformat": 4,
 "nbformat_minor": 2
}
