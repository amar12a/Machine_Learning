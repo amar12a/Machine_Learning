{
 "cells": [
  {
   "cell_type": "code",
   "execution_count": 7,
   "metadata": {},
   "outputs": [],
   "source": [
    "import numpy as np\n",
    "import pandas as pd\n",
    "from sklearn.model_selection import train_test_split\n",
    "import matplotlib.pyplot as plt\n",
    "import csv"
   ]
  },
  {
   "cell_type": "code",
   "execution_count": 8,
   "metadata": {},
   "outputs": [],
   "source": [
    "x=[]  #feature matrix\n",
    "y=[]  #Targeted attribute vector\n",
    "x0=[]\n",
    "x1=[]"
   ]
  },
  {
   "cell_type": "code",
   "execution_count": 9,
   "metadata": {},
   "outputs": [],
   "source": [
    "with open(\"data1.csv\",\"r\") as read_file:\n",
    "    lines=csv.reader(read_file)\n",
    "    ds=list(lines)\n",
    "    for i in range(len(ds)):\n",
    "        temp=ds[i][0].split(\",\")\n",
    "        a = float(temp[0])\n",
    "        b = float(temp[1])\n",
    "        c = int(temp[2],2)\n",
    "        x.append([a,b])\n",
    "        y.append([c])\n",
    "        if(c==0):\n",
    "            x0.append([a,b])\n",
    "        if(c==1):\n",
    "            x1.append([a,b])\n",
    "# Adding ones        \n",
    "one=np.ones([len(x),1])\n",
    "x=np.concatenate((one,x),axis=1)\n",
    "x0=np.array(x0)\n",
    "x1=np.array(x1)\n",
    "#Doing Normalization\n",
    "x0=(x0-np.mean(x0))/np.std(x0)\n",
    "x1=(x1-np.mean(x1))/np.std(x1)\n",
    "x=(x-np.mean(x))/np.std(x)\n",
    "y=np.array(y)"
   ]
  },
  {
   "cell_type": "code",
   "execution_count": 10,
   "metadata": {},
   "outputs": [
    {
     "name": "stdout",
     "output_type": "stream",
     "text": [
      "(70, 3) (30, 3) (70, 1) (30, 1)\n"
     ]
    }
   ],
   "source": [
    "#Initializing the parameters\n",
    "theta = np.matrix(np.zeros(3))\n",
    "\n",
    "#Spliting testing and training data using train_test_split method\n",
    "\n",
    "x_train,x_test,y_train,y_test=train_test_split(x,y,random_state = 50,test_size=.3)\n",
    "\n",
    "\n",
    "#set gradient parameters\n",
    "count = 0\n",
    "alpha = [0.1,0.03]\n",
    "no_iter = 800\n",
    "\n",
    "#checking dimension\n",
    "print(x_train.shape,x_test.shape,y_train.shape,y_test.shape)"
   ]
  },
  {
   "cell_type": "code",
   "execution_count": 11,
   "metadata": {},
   "outputs": [
    {
     "name": "stdout",
     "output_type": "stream",
     "text": [
      "parameters after gradient descent= [[-0.0170849   0.11274206  0.10827063]]\n",
      "\n",
      "parameters after gradient descent= [[-0.0170849   0.11274206  0.10827063]]\n"
     ]
    },
    {
     "data": {
      "image/png": "[encoded data removed]",
      "text/plain": [
       "<Figure size 432x288 with 1 Axes>"
      ]
     },
     "metadata": {
      "needs_background": "light"
     },
     "output_type": "display_data"
    },
    {
     "name": "stdout",
     "output_type": "stream",
     "text": [
      "\n",
      "Correct predictions out of 36 test points is (For alpha = 0.03) 21\n",
      "Accuracy achieved= 70.0 %\n"
     ]
    }
   ],
   "source": [
    "##Gradient Descent + Regularizer ##\n",
    "lemda=100\n",
    "def gradient_descent(X,Y,theta,alpha,no_iter):\n",
    "    cost=[]\n",
    "    m = len(x)\n",
    "    for i in range(0,no_iter):\n",
    "        #calculating hypothesis\n",
    "        hypo = X * theta.T    \n",
    "        ie = np.exp((-1) * hypo)\n",
    "        hypo = 1 / (1 + ie)\n",
    "        #calculating Cost function\n",
    "        temp = np.log2( hypo )\n",
    "        temp1 = np.log2(1 - hypo)\n",
    "        y1 = (-1)*(np.matmul(Y.T,temp))\n",
    "        y0 = (-1)*(np.matmul((1-Y).T,temp1))\n",
    "        cost_value = y1 + y0\n",
    "        error = hypo - Y\n",
    "        gradient = (error.T*X)/m\n",
    "        cost.append(cost_value)\n",
    "        theta = theta-(alpha * (gradient + lemda / m * theta))\n",
    "    return theta,cost\n",
    "\n",
    "cost_list = []\n",
    "para_list =[]\n",
    "for a in alpha:\n",
    "    para,cost=gradient_descent(x_train,y_train,theta,a,no_iter)\n",
    "    para_list.append(para)\n",
    "    cost_list.append(cost)\n",
    "\n",
    "print(\"parameters after gradient descent=\",para_list[0])\n",
    "print()\n",
    "print(\"parameters after gradient descent=\",para_list[1])\n",
    "\n",
    "it=np.arange(0,no_iter)\n",
    "plt.plot(it,np.squeeze(cost_list[0]),label=\"alpha = 0.1\")\n",
    "plt.plot(it,np.squeeze(cost_list[1]),label=\"alpha = 0.03\")\n",
    "plt.xlabel(\"No. of iterations\")\n",
    "plt.ylabel(\"Cost\")\n",
    "plt.legend()\n",
    "plt.show()\n",
    "\n",
    "##calculating sum of squared error\n",
    "\n",
    "predicted_y = np.matmul(x_test,para_list[0].transpose())\n",
    "predicted_y = 1/(1 + np.exp((-1) * predicted_y))\n",
    "predicted_y = np.where(predicted_y >= 0.5,1,0)\n",
    "predicted_y = np.squeeze(predicted_y)\n",
    "\n",
    "for i in range(0,len(predicted_y)):\n",
    "    if(predicted_y[i] == y_test[i]):\n",
    "        count=count+1\n",
    "\n",
    "predicted_y = np.matmul(x_test,para_list[1].transpose())\n",
    "predicted_y = 1/(1 + np.exp((-1) * predicted_y))\n",
    "predicted_y = np.where(predicted_y >= 0.5,1,0)\n",
    "predicted_y = np.squeeze(predicted_y)\n",
    "count = 0;\n",
    "for i in range(0,len(predicted_y)):\n",
    "    if(predicted_y[i] == y_test[i]):\n",
    "        count=count+1\n",
    "print()\n",
    "print(\"Correct predictions out of 36 test points is (For alpha = 0.03)\",count)\n",
    "print(\"Accuracy achieved=\",count/len(predicted_y)*100,\"%\")"
   ]
  },
  {
   "cell_type": "code",
   "execution_count": 12,
   "metadata": {},
   "outputs": [
    {
     "data": {
      "image/png": "[encoded data removed]",
      "text/plain": [
       "<Figure size 432x288 with 1 Axes>"
      ]
     },
     "metadata": {
      "needs_background": "light"
     },
     "output_type": "display_data"
    }
   ],
   "source": [
    "##Using entire dataset for plotting the graph as there are lesser test points\n",
    "x0=np.array(x0)\n",
    "x1=np.array(x1)\n",
    "plt.scatter([x0[:,0]],[x0[:,1]],c='b',label='y=0')\n",
    "plt.scatter([x1[:,0]],[x1[:,1]],c='r',label='y=1')\n",
    "x1=np.arange(-2,2,0.1)\n",
    "x2=-(para_list[0][0,0]+para_list[0][0,1]*x1)/para_list[0][0,2]\n",
    "plt.plot(x1,x2,c='k',label='regression line')\n",
    "plt.xlabel('x1')\n",
    "plt.ylabel('x2')\n",
    "plt.legend()\n",
    "plt.show()"
   ]
  }
 ],
 "metadata": {
  "kernelspec": {
   "display_name": "Python 3",
   "language": "python",
   "name": "python3"
  },
  "language_info": {
   "codemirror_mode": {
    "name": "ipython",
    "version": 3
   },
   "file_extension": ".py",
   "mimetype": "text/x-python",
   "name": "python",
   "nbconvert_exporter": "python",
   "pygments_lexer": "ipython3",
   "version": "3.7.1"
  }
 },
 "nbformat": 4,
 "nbformat_minor": 2
}
