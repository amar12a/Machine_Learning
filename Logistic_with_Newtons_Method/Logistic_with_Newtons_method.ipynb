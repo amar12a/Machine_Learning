{
 "cells": [
  {
   "cell_type": "code",
   "execution_count": 1,
   "metadata": {},
   "outputs": [],
   "source": [
    "import csv\n",
    "import numpy as np\n",
    "import pandas as pd\n",
    "from sklearn.model_selection import train_test_split\n",
    "import matplotlib.pyplot as plt"
   ]
  },
  {
   "cell_type": "code",
   "execution_count": 2,
   "metadata": {},
   "outputs": [],
   "source": [
    "X=[]  #feature matrix\n",
    "y=[]  #Targeted attribute vector"
   ]
  },
  {
   "cell_type": "code",
   "execution_count": 3,
   "metadata": {},
   "outputs": [],
   "source": [
    "with open(\"data1.csv\",\"r\") as read_file:\n",
    "    lines=csv.reader(read_file)\n",
    "    ds=list(lines)\n",
    "    for i in range(len(ds)):\n",
    "        temp=ds[i][0].split(\",\")\n",
    "        a = float(temp[0])\n",
    "        b = float(temp[1])\n",
    "        c = int(temp[2],2)\n",
    "        X.append([a,b])\n",
    "        y.append([c])\n",
    "        \n",
    "#Adding one in matrix        \n",
    "one=np.ones([len(X),1])\n",
    "X=np.concatenate((one,X),axis=1)\n",
    "\n",
    "#Doing Normalization\n",
    "\n",
    "X=(X-np.mean(X))/np.std(X)\n",
    "y=np.array(y)"
   ]
  },
  {
   "cell_type": "code",
   "execution_count": 4,
   "metadata": {},
   "outputs": [
    {
     "name": "stdout",
     "output_type": "stream",
     "text": [
      "100\n"
     ]
    }
   ],
   "source": [
    "#selecting features and targeted vector\n",
    "#X = df.iloc[:,0:2].values\n",
    "#y = df.iloc[:,-1:].values\n",
    "#print(X)\n",
    "#print(y)\n",
    "m = len(X)\n",
    "print(m)"
   ]
  },
  {
   "cell_type": "code",
   "execution_count": 5,
   "metadata": {},
   "outputs": [
    {
     "name": "stdout",
     "output_type": "stream",
     "text": [
      "70 30 70 30\n"
     ]
    }
   ],
   "source": [
    "from sklearn.model_selection import train_test_split\n",
    "\n",
    "X_train, X_test, Y_train, Y_test = train_test_split(X, y, random_state=50, test_size=0.3)\n",
    "print(len(X_train),len(X_test),len(Y_train),len(Y_test))"
   ]
  },
  {
   "cell_type": "code",
   "execution_count": 6,
   "metadata": {},
   "outputs": [],
   "source": [
    "#Initializing the parameter with zero\n",
    "theta = np.matrix(np.zeros(3))"
   ]
  },
  {
   "cell_type": "code",
   "execution_count": 7,
   "metadata": {},
   "outputs": [],
   "source": [
    "iters = 50\n",
    "\n",
    "def sigmoid(x,theta):\n",
    "    z=x*(theta.T)\n",
    "    return 1.0/(1.0+np.exp(-z))"
   ]
  },
  {
   "cell_type": "code",
   "execution_count": 8,
   "metadata": {},
   "outputs": [],
   "source": [
    "def del_j(X, Y, theta):\n",
    "    hypo = sigmoid(X,theta)\n",
    "    error = hypo - Y \n",
    "    return (error.T * X)/m"
   ]
  },
  {
   "cell_type": "code",
   "execution_count": 9,
   "metadata": {},
   "outputs": [],
   "source": [
    "gz = 0.5\n",
    "def hessian(X, theta):\n",
    "    temp=[]\n",
    "    hypo = sigmoid(X,theta)\n",
    "    for i in range(0,len(X_train)):\n",
    "        temp.append(gz)\n",
    "    d=np.diag(np.array(temp))\n",
    "    ie = np.matmul(X.T,d)\n",
    "    return np.dot(ie,X)/ m"
   ]
  },
  {
   "cell_type": "code",
   "execution_count": 10,
   "metadata": {},
   "outputs": [],
   "source": [
    "def newton_method(X, Y,theta, iteration):\n",
    "    cost=[]\n",
    "    for i in range(0, iteration):\n",
    "        hypo = sigmoid(X,theta)\n",
    "        error = hypo - Y\n",
    "        y_1 = (-1) * Y.T * np.log(hypo)\n",
    "        y_2 = - (1 - Y.T) * np.log((1-hypo))\n",
    "        tmp = y_1 + y_2\n",
    "        J = np.sum(tmp) / m\n",
    "        cost.append(J)\n",
    "        delta = del_j(X,Y,theta)\n",
    "        h = hessian(X, theta)\n",
    "        h_inv = np.linalg.inv(h)\n",
    "        temp = delta * h_inv\n",
    "        theta = theta - temp\n",
    "    \n",
    "    return theta,cost"
   ]
  },
  {
   "cell_type": "code",
   "execution_count": 11,
   "metadata": {},
   "outputs": [
    {
     "name": "stdout",
     "output_type": "stream",
     "text": [
      "parameters after Newtons Method implementation =  [[4.25798534 5.20246177 5.341987  ]]\n"
     ]
    },
    {
     "data": {
      "image/png": "[encoded data removed]",
      "text/plain": [
       "<Figure size 432x288 with 1 Axes>"
      ]
     },
     "metadata": {
      "needs_background": "light"
     },
     "output_type": "display_data"
    }
   ],
   "source": [
    "para,cost = newton_method(X_train, Y_train,theta, iters)\n",
    "print(\"parameters after Newtons Method implementation = \", para)\n",
    "it=np.arange(0,iters)\n",
    "plt.plot(it,np.squeeze(cost),label=\"Newtons Method\")\n",
    "plt.xlabel(\"No. of iterations\")\n",
    "plt.ylabel(\"Cost\")\n",
    "plt.legend()\n",
    "plt.show()"
   ]
  },
  {
   "cell_type": "code",
   "execution_count": 12,
   "metadata": {},
   "outputs": [
    {
     "name": "stdout",
     "output_type": "stream",
     "text": [
      "predictions out of 30 test points is  26\n",
      "Accuracy achieved= 86.66666666666667 %\n"
     ]
    }
   ],
   "source": [
    "# Calculating the Accuracy\n",
    "y_predict = np.matmul(X_test, para.T)\n",
    "y_predict = (-1) * y_predict\n",
    "ex = np.exp(y_predict)\n",
    "h = 1 + ex\n",
    "y_predict = 1 / h\n",
    "y_predict = np.where(y_predict >= 0.5,1,0)\n",
    "y_predict = np.squeeze(y_predict)\n",
    "\n",
    "count = 0\n",
    "for i in range(0,len(y_predict)):\n",
    "    if(y_predict[i] == Y_test[i]):\n",
    "        count = count+1\n",
    "print(\"predictions out of 30 test points is \",count)\n",
    "accuracy =  (count / len(y_predict)) * 100\n",
    "print(\"Accuracy achieved=\", accuracy, \"%\")"
   ]
  },
  {
   "cell_type": "code",
   "execution_count": null,
   "metadata": {},
   "outputs": [],
   "source": []
  }
 ],
 "metadata": {
  "kernelspec": {
   "display_name": "Python 3",
   "language": "python",
   "name": "python3"
  },
  "language_info": {
   "codemirror_mode": {
    "name": "ipython",
    "version": 3
   },
   "file_extension": ".py",
   "mimetype": "text/x-python",
   "name": "python",
   "nbconvert_exporter": "python",
   "pygments_lexer": "ipython3",
   "version": "3.7.1"
  }
 },
 "nbformat": 4,
 "nbformat_minor": 2
}
