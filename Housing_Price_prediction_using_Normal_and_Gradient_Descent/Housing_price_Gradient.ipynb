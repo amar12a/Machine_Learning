{
 "cells": [
  {
   "cell_type": "code",
   "execution_count": 7,
   "metadata": {},
   "outputs": [],
   "source": [
    "import numpy as np\n",
    "import pandas as pd\n",
    "import matplotlib.pyplot as plt"
   ]
  },
  {
   "cell_type": "code",
   "execution_count": 8,
   "metadata": {},
   "outputs": [
    {
     "name": "stdout",
     "output_type": "stream",
     "text": [
      "No. of rows :  546\n"
     ]
    }
   ],
   "source": [
    "df=pd.read_csv(\"Housing_price_data_set.csv\")\n",
    "df['num_airco']=df.airco.map({'yes':1,'no':0})\n",
    "df['num_fullbase']=df.fullbase.map({'yes':1,'no':0})\n",
    "df['num_gashw']=df.gashw.map({'yes':1,'no':0})\n",
    "df['num_driveway']=df.driveway.map({'yes':1,'no':0})\n",
    "df['num_recroom']=df.recroom.map({'yes':1,'no':0})\n",
    "df['num_prefarea']=df.prefarea.map({'yes':1,'no':0})\n",
    "X=df[['lotsize','bedrooms','bathrms','stories','num_driveway','num_recroom','num_fullbase','num_gashw','num_airco','garagepl','num_prefarea']].values\n",
    "Y=df[['price']].values\n",
    "\n",
    "# Normalization is done here\n",
    "X=(X-np.mean(X))/np.std(X)\n",
    "Y=(Y-np.mean(Y))/np.std(Y)\n",
    "m=df['lotsize'].count()\n",
    "\n",
    "#printing number of rows\n",
    "\n",
    "print(\"No. of rows : \",m)"
   ]
  },
  {
   "cell_type": "code",
   "execution_count": 9,
   "metadata": {},
   "outputs": [
    {
     "name": "stdout",
     "output_type": "stream",
     "text": [
      "[[0. 0. 0. 0. 0. 0. 0. 0. 0. 0. 0. 0.]]\n"
     ]
    }
   ],
   "source": [
    "# Intializing the parameters with zero\n",
    "theta = np.matrix(np.zeros(12))\n",
    "\n",
    "# Splitting the training and test data using train_test_split\n",
    "\n",
    "from sklearn.model_selection import train_test_split\n",
    "ones = np.ones([X.shape[0],1])\n",
    "X = np.concatenate((ones,X),axis=1)\n",
    "\n",
    "x_train,x_test,y_train,y_test=train_test_split(X,Y,random_state=50,test_size=.3)\n",
    "\n",
    "\n",
    "\n",
    "#set gradient parameters\n",
    "alpha = [0.1,0.03]\n",
    "iters = 1000\n",
    "print(theta)"
   ]
  },
  {
   "cell_type": "code",
   "execution_count": 10,
   "metadata": {},
   "outputs": [],
   "source": [
    "m = len(X)\n",
    "def gradient_descent(X,Y,theta,iters,alpha):\n",
    "    cost=[]\n",
    "    for i in range(0,iters):\n",
    "        hypo=X*theta.T\n",
    "        error=hypo-Y\n",
    "        ie = np.sum(np.power(error,2))\n",
    "        cost.append(ie/(2*m))\n",
    "        gradient=(error.T*X)/m\n",
    "        theta=theta-(alpha*gradient)\n",
    "    return theta,cost"
   ]
  },
  {
   "cell_type": "code",
   "execution_count": 11,
   "metadata": {},
   "outputs": [
    {
     "name": "stdout",
     "output_type": "stream",
     "text": [
      "parameters after gradient descent= [[-0.61091344  0.39245601  0.18560983  0.18659032  0.19251586  0.17920666\n",
      "   0.18069675  0.17988942  0.17798045  0.18438004  0.18434518  0.18103322]]\n",
      "parameters after gradient descent= [[-0.61606843  0.39144044  0.18042739  0.18116219  0.18277396  0.17905148\n",
      "   0.17965533  0.17931572  0.17883456  0.18075424  0.1807737   0.17975492]]\n"
     ]
    },
    {
     "data": {
      "image/png": "[encoded data removed]",
      "text/plain": [
       "<Figure size 432x288 with 1 Axes>"
      ]
     },
     "metadata": {
      "needs_background": "light"
     },
     "output_type": "display_data"
    }
   ],
   "source": [
    "cost_list = []\n",
    "para_list = []\n",
    "for a in alpha:\n",
    "    para,cost=gradient_descent(x_train,y_train,theta,iters,a)\n",
    "    print(\"parameters after gradient descent=\",para)\n",
    "    cost_list.append(cost)\n",
    "    para_list.append(para)\n",
    "    \n",
    "it=np.arange(0,iters)\n",
    "plt.plot(it,np.array(cost_list[0]),label=\"alpha = 0.1\")\n",
    "plt.plot(it,np.array(cost_list[1]),label=\"alpha = 0.03\")\n",
    "plt.xlabel(\"No. of iterations\")\n",
    "plt.ylabel(\"Cost\")\n",
    "plt.legend()\n",
    "plt.show()"
   ]
  },
  {
   "cell_type": "code",
   "execution_count": 12,
   "metadata": {},
   "outputs": [
    {
     "name": "stdout",
     "output_type": "stream",
     "text": [
      "The Squared error for (alpha = 0.1) : 0.35637255518437705\n",
      "\n",
      "The Squared error for(alpha = 0.03): 0.3563890015813656\n"
     ]
    }
   ],
   "source": [
    "##calculating sum of the squared error after 1000 epochs\n",
    "hypo=np.matmul(X,np.transpose(para_list[0]))\n",
    "diff=hypo - Y\n",
    "diff=np.power(diff,2)\n",
    "error = np.mean(diff)/2\n",
    "print(\"The Squared error for (alpha = 0.1) :\",error)\n",
    "hypo=np.matmul(X,np.transpose(para_list[1]))\n",
    "diff=hypo - Y\n",
    "ie=np.power(diff,2)\n",
    "error = np.mean(ie)/2\n",
    "print()\n",
    "print(\"The Squared error for(alpha = 0.03):\",error)"
   ]
  }
 ],
 "metadata": {
  "kernelspec": {
   "display_name": "Python 3",
   "language": "python",
   "name": "python3"
  },
  "language_info": {
   "codemirror_mode": {
    "name": "ipython",
    "version": 3
   },
   "file_extension": ".py",
   "mimetype": "text/x-python",
   "name": "python",
   "nbconvert_exporter": "python",
   "pygments_lexer": "ipython3",
   "version": "3.7.1"
  }
 },
 "nbformat": 4,
 "nbformat_minor": 2
}
